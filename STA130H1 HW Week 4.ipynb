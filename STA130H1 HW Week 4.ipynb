{
 "cells": [
  {
   "cell_type": "markdown",
   "id": "95be3282",
   "metadata": {},
   "source": [
    "Question 1:\n",
    "\n",
    "While the standard deviation of data represents the general spread, the standard error of the mean represents the variation of the sample mean. The SD describes the variation of the data while the SEM shows the accuracy of the mean as an estimate of true population. "
   ]
  },
  {
   "cell_type": "markdown",
   "id": "9ac114ac",
   "metadata": {},
   "source": [
    "Question 2:\n",
    "\n",
    "You can do this by calculating the SM, SEM, and the critical value for 95% confidence.\n",
    "\n",
    "CI=(SM-1.96×SEM,SM+1.96×SEM)"
   ]
  },
  {
   "cell_type": "markdown",
   "id": "7a0c318f",
   "metadata": {},
   "source": [
    "Question 3:\n",
    "\n",
    "By caclulating bootstrapped means for each sample, then you can sort them and seperate the lower (2.5%) and upper (97.5%) bounds. \n",
    "\n",
    "https://chatgpt.com/share/66ff3213-729c-800d-98f1-222eb54cb2b6"
   ]
  },
  {
   "cell_type": "markdown",
   "id": "be38550d",
   "metadata": {},
   "source": [
    "Question 4:\n",
    "https://chatgpt.com/share/66ff3213-729c-800d-98f1-222eb54cb2b6"
   ]
  },
  {
   "cell_type": "code",
   "execution_count": 1,
   "id": "5307038c",
   "metadata": {},
   "outputs": [
    {
     "name": "stdout",
     "output_type": "stream",
     "text": [
      "95% Bootstrap Confidence Interval for the Mean: (10.4, 18.6)\n"
     ]
    }
   ],
   "source": [
    "import numpy as np\n",
    "\n",
    "# Sample data (you can replace this with your actual data)\n",
    "data = np.array([5, 7, 9, 10, 12, 15, 18, 21, 23, 25])\n",
    "\n",
    "# Number of bootstrap samples\n",
    "n_bootstrap_samples = 1000\n",
    "\n",
    "# Seed for reproducibility (optional)\n",
    "np.random.seed(42)\n",
    "\n",
    "# Function to generate bootstrap samples and calculate the statistic\n",
    "def bootstrap_ci(data, statistic_func, n_bootstrap_samples=1000, ci_percentile=95):\n",
    "    bootstrap_statistics = []\n",
    "    \n",
    "    # Generate bootstrap samples and calculate the statistic (mean in this case)\n",
    "    for _ in range(n_bootstrap_samples):\n",
    "        # Resample the data with replacement\n",
    "        bootstrap_sample = np.random.choice(data, size=len(data), replace=True)\n",
    "        # Calculate the statistic (mean) for this bootstrap sample\n",
    "        stat_value = statistic_func(bootstrap_sample)\n",
    "        bootstrap_statistics.append(stat_value)\n",
    "    \n",
    "    # Convert the list of statistics into a numpy array\n",
    "    bootstrap_statistics = np.array(bootstrap_statistics)\n",
    "    \n",
    "    # Calculate the lower and upper percentiles for the confidence interval\n",
    "    lower_percentile = (100 - ci_percentile) / 2\n",
    "    upper_percentile = 100 - lower_percentile\n",
    "    \n",
    "    # Find the bounds for the confidence interval\n",
    "    lower_bound = np.percentile(bootstrap_statistics, lower_percentile)\n",
    "    upper_bound = np.percentile(bootstrap_statistics, upper_percentile)\n",
    "    \n",
    "    # Return the confidence interval\n",
    "    return lower_bound, upper_bound\n",
    "\n",
    "# Define the statistic to be the mean (for population mean)\n",
    "mean_ci = bootstrap_ci(data, np.mean)\n",
    "print(f\"95% Bootstrap Confidence Interval for the Mean: {mean_ci}\")\n"
   ]
  },
  {
   "cell_type": "code",
   "execution_count": 2,
   "id": "3dcaef33",
   "metadata": {},
   "outputs": [
    {
     "name": "stdout",
     "output_type": "stream",
     "text": [
      "95% Bootstrap Confidence Interval for the Median: (8.5, 21.0)\n"
     ]
    }
   ],
   "source": [
    "import numpy as np\n",
    "\n",
    "# Sample data (you can replace this with your actual data)\n",
    "data = np.array([5, 7, 9, 10, 12, 15, 18, 21, 23, 25])\n",
    "\n",
    "# Number of bootstrap samples\n",
    "n_bootstrap_samples = 1000\n",
    "\n",
    "# Seed for reproducibility (optional)\n",
    "np.random.seed(42)\n",
    "\n",
    "# Function to generate bootstrap samples and calculate the statistic\n",
    "def bootstrap_ci(data, statistic_func, n_bootstrap_samples=1000, ci_percentile=95):\n",
    "    bootstrap_statistics = []\n",
    "    \n",
    "    # Generate bootstrap samples and calculate the statistic (mean in this case)\n",
    "    for _ in range(n_bootstrap_samples):\n",
    "        # Resample the data with replacement\n",
    "        bootstrap_sample = np.random.choice(data, size=len(data), replace=True)\n",
    "        # Calculate the statistic (mean) for this bootstrap sample\n",
    "        stat_value = statistic_func(bootstrap_sample)\n",
    "        bootstrap_statistics.append(stat_value)\n",
    "    \n",
    "    # Convert the list of statistics into a numpy array\n",
    "    bootstrap_statistics = np.array(bootstrap_statistics)\n",
    "    \n",
    "    # Calculate the lower and upper percentiles for the confidence interval\n",
    "    lower_percentile = (100 - ci_percentile) / 2\n",
    "    upper_percentile = 100 - lower_percentile\n",
    "    \n",
    "    # Find the bounds for the confidence interval\n",
    "    lower_bound = np.percentile(bootstrap_statistics, lower_percentile)\n",
    "    upper_bound = np.percentile(bootstrap_statistics, upper_percentile)\n",
    "    \n",
    "    # Return the confidence interval\n",
    "    return lower_bound, upper_bound\n",
    "\n",
    "# Define the statistic to be the median (for population median)\n",
    "median_ci = bootstrap_ci(data, np.median)\n",
    "print(f\"95% Bootstrap Confidence Interval for the Median: {median_ci}\")"
   ]
  },
  {
   "cell_type": "code",
   "execution_count": 3,
   "id": "8cd9aca0",
   "metadata": {},
   "outputs": [
    {
     "name": "stdout",
     "output_type": "stream",
     "text": [
      "95% Bootstrap Confidence Interval for the Variance: (18.835, 62.770999999999994)\n"
     ]
    }
   ],
   "source": [
    "import numpy as np\n",
    "\n",
    "# Sample data (you can replace this with your actual data)\n",
    "data = np.array([5, 7, 9, 10, 12, 15, 18, 21, 23, 25])\n",
    "\n",
    "# Number of bootstrap samples\n",
    "n_bootstrap_samples = 1000\n",
    "\n",
    "# Seed for reproducibility (optional)\n",
    "np.random.seed(42)\n",
    "\n",
    "# Function to generate bootstrap samples and calculate the statistic\n",
    "def bootstrap_ci(data, statistic_func, n_bootstrap_samples=1000, ci_percentile=95):\n",
    "    bootstrap_statistics = []\n",
    "    \n",
    "    # Generate bootstrap samples and calculate the statistic (mean in this case)\n",
    "    for _ in range(n_bootstrap_samples):\n",
    "        # Resample the data with replacement\n",
    "        bootstrap_sample = np.random.choice(data, size=len(data), replace=True)\n",
    "        # Calculate the statistic (mean) for this bootstrap sample\n",
    "        stat_value = statistic_func(bootstrap_sample)\n",
    "        bootstrap_statistics.append(stat_value)\n",
    "    \n",
    "    # Convert the list of statistics into a numpy array\n",
    "    bootstrap_statistics = np.array(bootstrap_statistics)\n",
    "    \n",
    "    # Calculate the lower and upper percentiles for the confidence interval\n",
    "    lower_percentile = (100 - ci_percentile) / 2\n",
    "    upper_percentile = 100 - lower_percentile\n",
    "    \n",
    "    # Find the bounds for the confidence interval\n",
    "    lower_bound = np.percentile(bootstrap_statistics, lower_percentile)\n",
    "    upper_bound = np.percentile(bootstrap_statistics, upper_percentile)\n",
    "    \n",
    "    # Return the confidence interval\n",
    "    return lower_bound, upper_bound\n",
    "\n",
    "# Define the statistic to be the variance (for population variance)\n",
    "variance_ci = bootstrap_ci(data, np.var)\n",
    "print(f\"95% Bootstrap Confidence Interval for the Variance: {variance_ci}\")"
   ]
  },
  {
   "cell_type": "markdown",
   "id": "d6234691",
   "metadata": {},
   "source": [
    "Question 5:\n",
    "\n",
    "It's helpful to distinguish between a population parameter and the sample statistic because of the purpose and difference in function they serve. The population parameter is often what we want to compute but we don't know while the sample statistic is a calculated value."
   ]
  },
  {
   "cell_type": "markdown",
   "id": "8dd2b6fe",
   "metadata": {},
   "source": [
    "Question 6:\n",
    "(1)\n",
    "Bootstrapping is a statistical method used to estimate distribution of a statistic.\n",
    "\n",
    "(2)\n",
    "The main purpose of bootstrapping is to estimate the sample distribution of a statistic (such as the mean, median)\n",
    "\n",
    "(3)\n",
    "To use bootstrapping to assess whether your hypothesized population mean is plausible, first take your sample and generate many new samples by resampling with replacement from the original data. For each bootstrap sample, calculate the mean. This will give you a distribution of means, which represents what the sample means might look like if the data were randomly drawn from the population. Next, compare your observed sample mean to this distribution. If a lot of the bootstrap means are far from your hypothesized mean, it suggests that your hypothesis may not be plausible. You can also calculate a p-value by determining how many of the bootstrap means are as extreme or more extreme than your observed mean. If this proportion is small (typically less than 5%), it indicates that your hypothesized mean is likely not true."
   ]
  },
  {
   "cell_type": "markdown",
   "id": "19a6e09d",
   "metadata": {},
   "source": [
    "Question 7:\n",
    "A confidence interval overlapping zero suggests that the true population effect could include zero, meaning there's a possibility that the drug has no effect. On the other hand, if the confidence interval does not include zero, it means that the true effect is unlikely to be zero, and we can conclude that the drug likely has a significant effect. In this case, we would reject the null hypothesis because the data provide strong evidence against the idea of no effect."
   ]
  },
  {
   "cell_type": "code",
   "execution_count": 7,
   "id": "fe231d9c",
   "metadata": {},
   "outputs": [
    {
     "name": "stdout",
     "output_type": "stream",
     "text": [
      "   PatientID  Age Gender  InitialHealthScore  FinalHealthScore\n",
      "0          1   45      M                  84                86\n",
      "1          2   34      F                  78                86\n",
      "2          3   29      M                  83                80\n",
      "3          4   52      F                  81                86\n",
      "4          5   37      M                  81                84\n",
      "5          6   41      F                  80                86\n",
      "6          7   33      M                  79                86\n",
      "7          8   48      F                  85                82\n",
      "8          9   26      M                  76                83\n",
      "9         10   39      F                  83                84\n"
     ]
    },
    {
     "data": {
      "image/png": "[encoded data removed]",
      "text/plain": [
       "<Figure size 640x480 with 1 Axes>"
      ]
     },
     "metadata": {},
     "output_type": "display_data"
    },
    {
     "name": "stdout",
     "output_type": "stream",
     "text": [
      "95% Confidence Interval for the mean health difference: [0.9, 5.6]\n"
     ]
    }
   ],
   "source": [
    "import pandas as pd\n",
    "import numpy as np\n",
    "import matplotlib.pyplot as plt\n",
    "\n",
    "# Recreate the dataset\n",
    "data = pd.DataFrame({\n",
    "    'PatientID': [1, 2, 3, 4, 5, 6, 7, 8, 9, 10],\n",
    "    'Age': [45, 34, 29, 52, 37, 41, 33, 48, 26, 39],\n",
    "    'Gender': ['M', 'F', 'M', 'F', 'M', 'F', 'M', 'F', 'M', 'F'],\n",
    "    'InitialHealthScore': [84, 78, 83, 81, 81, 80, 79, 85, 76, 83],\n",
    "    'FinalHealthScore': [86, 86, 80, 86, 84, 86, 86, 82, 83, 84]\n",
    "})\n",
    "\n",
    "# Display the dataset\n",
    "print(data)\n",
    "\n",
    "# Set seed for reproducibility\n",
    "np.random.seed(42)\n",
    "\n",
    "# Calculate differences between Final and Initial Health Scores\n",
    "data['HealthDiff'] = data['FinalHealthScore'] - data['InitialHealthScore']\n",
    "\n",
    "# Bootstrap procedure\n",
    "bootstrap_means = []\n",
    "n_bootstrap = 10000\n",
    "for _ in range(n_bootstrap):\n",
    "    sample = data['HealthDiff'].sample(frac=1, replace=True)\n",
    "    bootstrap_means.append(sample.mean())\n",
    "\n",
    "# Create bootstrap distribution\n",
    "bootstrap_means = np.array(bootstrap_means)\n",
    "\n",
    "# Visualize the distribution\n",
    "plt.hist(bootstrap_means, bins=30, edgecolor='black')\n",
    "plt.title('Bootstrap Distribution of Mean Health Differences')\n",
    "plt.xlabel('Mean Health Difference')\n",
    "plt.ylabel('Frequency')\n",
    "plt.show()\n",
    "\n",
    "# Confidence interval (95%)\n",
    "ci_lower = np.percentile(bootstrap_means, 2.5)\n",
    "ci_upper = np.percentile(bootstrap_means, 97.5)\n",
    "\n",
    "# Output the confidence interval\n",
    "print(f\"95% Confidence Interval for the mean health difference: [{ci_lower}, {ci_upper}]\")\n"
   ]
  },
  {
   "cell_type": "code",
   "execution_count": 8,
   "id": "4670386f",
   "metadata": {},
   "outputs": [
    {
     "name": "stdout",
     "output_type": "stream",
     "text": [
      "Original Data:\n",
      "   PatientID  Age Gender  InitialHealthScore  FinalHealthScore\n",
      "0          1   45      M                  84                86\n",
      "1          2   34      F                  78                86\n",
      "2          3   29      M                  83                80\n",
      "3          4   52      F                  81                86\n",
      "4          5   37      M                  81                84\n",
      "5          6   41      F                  80                86\n",
      "6          7   33      M                  79                86\n",
      "7          8   48      F                  85                82\n",
      "8          9   26      M                  76                83\n",
      "9         10   39      F                  83                84\n",
      "\n",
      "Observed mean health score difference: 3.3\n"
     ]
    },
    {
     "data": {
      "image/png": "[encoded data removed]",
      "text/plain": [
       "<Figure size 640x480 with 1 Axes>"
      ]
     },
     "metadata": {},
     "output_type": "display_data"
    },
    {
     "name": "stdout",
     "output_type": "stream",
     "text": [
      "\n",
      "95% Confidence Interval for the mean health difference: [0.9, 5.6]\n",
      "\n",
      "P-value: 0.5344\n",
      "\n",
      "Conclusion: Fail to reject the null hypothesis. The vaccine effect is not statistically significant.\n"
     ]
    }
   ],
   "source": [
    "import pandas as pd\n",
    "import numpy as np\n",
    "import matplotlib.pyplot as plt\n",
    "\n",
    "# Recreate the dataset\n",
    "data = pd.DataFrame({\n",
    "    'PatientID': [1, 2, 3, 4, 5, 6, 7, 8, 9, 10],\n",
    "    'Age': [45, 34, 29, 52, 37, 41, 33, 48, 26, 39],\n",
    "    'Gender': ['M', 'F', 'M', 'F', 'M', 'F', 'M', 'F', 'M', 'F'],\n",
    "    'InitialHealthScore': [84, 78, 83, 81, 81, 80, 79, 85, 76, 83],\n",
    "    'FinalHealthScore': [86, 86, 80, 86, 84, 86, 86, 82, 83, 84]\n",
    "})\n",
    "\n",
    "# Display the dataset\n",
    "print(\"Original Data:\")\n",
    "print(data)\n",
    "\n",
    "# Set seed for reproducibility\n",
    "np.random.seed(42)\n",
    "\n",
    "# Calculate differences between Final and Initial Health Scores\n",
    "data['HealthDiff'] = data['FinalHealthScore'] - data['InitialHealthScore']\n",
    "\n",
    "# Observed mean difference\n",
    "observed_mean_diff = data['HealthDiff'].mean()\n",
    "print(f\"\\nObserved mean health score difference: {observed_mean_diff}\")\n",
    "\n",
    "# Bootstrap procedure\n",
    "bootstrap_means = []\n",
    "n_bootstrap = 10000\n",
    "for _ in range(n_bootstrap):\n",
    "    sample = data['HealthDiff'].sample(frac=1, replace=True)\n",
    "    bootstrap_means.append(sample.mean())\n",
    "\n",
    "# Convert to numpy array\n",
    "bootstrap_means = np.array(bootstrap_means)\n",
    "\n",
    "# Visualize the bootstrap distribution\n",
    "plt.hist(bootstrap_means, bins=30, edgecolor='black')\n",
    "plt.title('Bootstrap Distribution of Mean Health Differences')\n",
    "plt.xlabel('Mean Health Difference')\n",
    "plt.ylabel('Frequency')\n",
    "plt.axvline(observed_mean_diff, color='red', linestyle='--', label='Observed Mean Difference')\n",
    "plt.legend()\n",
    "plt.show()\n",
    "\n",
    "# Confidence interval (95%)\n",
    "ci_lower = np.percentile(bootstrap_means, 2.5)\n",
    "ci_upper = np.percentile(bootstrap_means, 97.5)\n",
    "\n",
    "# Output the confidence interval\n",
    "print(f\"\\n95% Confidence Interval for the mean health difference: [{ci_lower}, {ci_upper}]\")\n",
    "\n",
    "# P-value calculation\n",
    "# The null hypothesis assumes the mean difference is zero\n",
    "p_value = np.mean(bootstrap_means >= observed_mean_diff)\n",
    "\n",
    "# Output the p-value\n",
    "print(f\"\\nP-value: {p_value}\")\n",
    "\n",
    "# Conclusion based on the p-value\n",
    "alpha = 0.05\n",
    "if p_value < alpha:\n",
    "    print(\"\\nConclusion: Reject the null hypothesis. The vaccine likely has a significant effect.\")\n",
    "else:\n",
    "    print(\"\\nConclusion: Fail to reject the null hypothesis. The vaccine effect is not statistically significant.\")\n"
   ]
  },
  {
   "cell_type": "markdown",
   "id": "45b836a3",
   "metadata": {},
   "source": [
    "Question 9:\n",
    "Yes I've been interacting with chatbots for this purpose."
   ]
  }
 ],
 "metadata": {
  "kernelspec": {
   "display_name": "Python 3 (ipykernel)",
   "language": "python",
   "name": "python3"
  },
  "language_info": {
   "codemirror_mode": {
    "name": "ipython",
    "version": 3
   },
   "file_extension": ".py",
   "mimetype": "text/x-python",
   "name": "python",
   "nbconvert_exporter": "python",
   "pygments_lexer": "ipython3",
   "version": "3.11.6"
  }
 },
 "nbformat": 4,
 "nbformat_minor": 5
}

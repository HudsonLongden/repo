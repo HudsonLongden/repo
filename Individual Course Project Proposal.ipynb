{
 "cells": [
  {
   "cell_type": "markdown",
   "id": "5450bf15",
   "metadata": {},
   "source": [
    "Analysis 1:\n",
    "\n",
    "How can we predict a person's income based on their age, education level, and occupation?\n",
    "\n",
    "Variables: Age, Education Level, Occupation\n",
    "\n",
    "Analysis: Linear Regression\n",
    "Box plots\n",
    "Violin plot?\n",
    "\n",
    "Hypothesis: Higher education levels and specific occupations are associated with higher income levels."
   ]
  },
  {
   "cell_type": "markdown",
   "id": "6903b6ac",
   "metadata": {},
   "source": [
    "Analysis 2:\n",
    "\n",
    "What is the relationship between household income, city of residence, and the importance of maintaining friendships?\n",
    "\n",
    "Variables: Household Income, City of Residence, Importance of Maintaining Friendships\n",
    "\n",
    "Analysis: Multiple Regression\n",
    "Hypothesis Testing\n",
    "\n",
    "Hypothesis: Individuals with higher household income levels place a higher importance on maintaining friendships."
   ]
  },
  {
   "cell_type": "markdown",
   "id": "1de18699",
   "metadata": {},
   "source": [
    "Analysis 3:\n",
    "\n",
    "How does age and gender identity impact social media usage frequency?\n",
    "\n",
    "Variables: Age, Gender Identity, Social Media Visits per Day\n",
    "\n",
    "Analysis:\n",
    "Box Plot: Create a box plot to compare social media visits per day across different age groups, split by gender identity.\n",
    "Bar Chart: Use a bar chart to show average social media usage for each gender identity within each age group.\n",
    "Regression Analysis\n",
    "\n",
    "Hypothesis: Younger individuals will report higher daily social media visits compared to older individuals."
   ]
  }
 ],
 "metadata": {
  "kernelspec": {
   "display_name": "Python 3 (ipykernel)",
   "language": "python",
   "name": "python3"
  },
  "language_info": {
   "codemirror_mode": {
    "name": "ipython",
    "version": 3
   },
   "file_extension": ".py",
   "mimetype": "text/x-python",
   "name": "python",
   "nbconvert_exporter": "python",
   "pygments_lexer": "ipython3",
   "version": "3.11.6"
  }
 },
 "nbformat": 4,
 "nbformat_minor": 5
}
